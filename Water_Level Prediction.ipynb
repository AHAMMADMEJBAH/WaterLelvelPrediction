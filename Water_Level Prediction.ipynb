{
 "cells": [
  {
   "cell_type": "code",
   "execution_count": 41,
   "metadata": {},
   "outputs": [],
   "source": [
    "import pandas as pd\n",
    "import sklearn\n",
    "from sklearn.linear_model import LinearRegression, LogisticRegression\n",
    "import seaborn as sns\n",
    "from sklearn import metrics\n",
    "import statsmodels.api as sm\n",
    "from sklearn.metrics import confusion_matrix, classification_report\n",
    "import numpy as np\n",
    "from sklearn.metrics import roc_auc_score\n",
    "from sklearn.metrics import roc_curve\n",
    "from sklearn.preprocessing import LabelBinarizer\n",
    "from sklearn.model_selection import train_test_split\n",
    "import matplotlib.pyplot as plt"
   ]
  },
  {
   "cell_type": "code",
   "execution_count": 2,
   "metadata": {},
   "outputs": [],
   "source": [
    "datasets = pd.read_csv('WL.csv')"
   ]
  },
  {
   "cell_type": "code",
   "execution_count": 3,
   "metadata": {},
   "outputs": [],
   "source": [
    "datasets = pd.DataFrame(datasets)"
   ]
  },
  {
   "cell_type": "code",
   "execution_count": 4,
   "metadata": {},
   "outputs": [
    {
     "data": {
      "text/html": [
       "<div>\n",
       "<style scoped>\n",
       "    .dataframe tbody tr th:only-of-type {\n",
       "        vertical-align: middle;\n",
       "    }\n",
       "\n",
       "    .dataframe tbody tr th {\n",
       "        vertical-align: top;\n",
       "    }\n",
       "\n",
       "    .dataframe thead th {\n",
       "        text-align: right;\n",
       "    }\n",
       "</style>\n",
       "<table border=\"1\" class=\"dataframe\">\n",
       "  <thead>\n",
       "    <tr style=\"text-align: right;\">\n",
       "      <th></th>\n",
       "      <th>WaterLevel</th>\n",
       "      <th>Discharge</th>\n",
       "      <th>MaxVelocity</th>\n",
       "    </tr>\n",
       "  </thead>\n",
       "  <tbody>\n",
       "    <tr>\n",
       "      <th>0</th>\n",
       "      <td>4.80</td>\n",
       "      <td>163.16</td>\n",
       "      <td>0.25</td>\n",
       "    </tr>\n",
       "    <tr>\n",
       "      <th>1</th>\n",
       "      <td>4.37</td>\n",
       "      <td>146.12</td>\n",
       "      <td>0.25</td>\n",
       "    </tr>\n",
       "    <tr>\n",
       "      <th>2</th>\n",
       "      <td>4.25</td>\n",
       "      <td>120.07</td>\n",
       "      <td>0.23</td>\n",
       "    </tr>\n",
       "    <tr>\n",
       "      <th>3</th>\n",
       "      <td>3.97</td>\n",
       "      <td>113.66</td>\n",
       "      <td>0.22</td>\n",
       "    </tr>\n",
       "    <tr>\n",
       "      <th>4</th>\n",
       "      <td>3.92</td>\n",
       "      <td>105.33</td>\n",
       "      <td>0.21</td>\n",
       "    </tr>\n",
       "  </tbody>\n",
       "</table>\n",
       "</div>"
      ],
      "text/plain": [
       "   WaterLevel  Discharge  MaxVelocity\n",
       "0        4.80     163.16         0.25\n",
       "1        4.37     146.12         0.25\n",
       "2        4.25     120.07         0.23\n",
       "3        3.97     113.66         0.22\n",
       "4        3.92     105.33         0.21"
      ]
     },
     "execution_count": 4,
     "metadata": {},
     "output_type": "execute_result"
    }
   ],
   "source": [
    "datasets.head()"
   ]
  },
  {
   "cell_type": "code",
   "execution_count": 5,
   "metadata": {},
   "outputs": [
    {
     "name": "stdout",
     "output_type": "stream",
     "text": [
      "<class 'pandas.core.frame.DataFrame'>\n",
      "RangeIndex: 271 entries, 0 to 270\n",
      "Data columns (total 3 columns):\n",
      " #   Column       Non-Null Count  Dtype  \n",
      "---  ------       --------------  -----  \n",
      " 0   WaterLevel   271 non-null    float64\n",
      " 1   Discharge    271 non-null    float64\n",
      " 2   MaxVelocity  271 non-null    float64\n",
      "dtypes: float64(3)\n",
      "memory usage: 6.5 KB\n"
     ]
    }
   ],
   "source": [
    "datasets.info()"
   ]
  },
  {
   "cell_type": "code",
   "execution_count": 6,
   "metadata": {},
   "outputs": [
    {
     "name": "stdout",
     "output_type": "stream",
     "text": [
      "12.55\n",
      "3.07\n",
      "7.293062730627306\n",
      "7.32\n"
     ]
    }
   ],
   "source": [
    "print(max(datasets.WaterLevel))\n",
    "print(min(datasets.WaterLevel))\n",
    "print(np.mean(datasets.WaterLevel))\n",
    "print(np.median(datasets.WaterLevel))"
   ]
  },
  {
   "cell_type": "code",
   "execution_count": 7,
   "metadata": {},
   "outputs": [
    {
     "data": {
      "text/plain": [
       "array([ 4.8 ,  4.37,  4.25,  3.97,  3.92,  4.18,  4.64,  4.93,  6.53,\n",
       "        5.45,  8.07,  7.3 , 10.19,  9.69,  8.6 ,  7.46,  7.66,  8.46,\n",
       "        8.98,  7.98,  8.39,  8.12,  5.99,  4.99,  4.98,  4.06,  3.21,\n",
       "        3.07,  3.54,  4.08,  3.58,  3.7 ,  5.13,  4.56,  4.76,  5.52,\n",
       "        7.62,  7.52,  8.43,  7.76,  9.42,  9.29,  9.38,  7.83,  8.84,\n",
       "        9.58,  8.61,  5.68,  4.94,  4.78,  4.31,  4.09,  3.8 ,  3.68,\n",
       "        3.72,  3.87,  7.69,  9.96,  3.71,  3.37,  3.43,  3.46,  3.14,\n",
       "        3.81,  4.15,  5.26,  6.55,  6.06,  6.75,  9.5 ,  9.55,  9.83,\n",
       "       10.75, 10.22, 12.54, 10.9 , 11.37, 11.31,  9.05,  8.97,  7.32,\n",
       "        7.53,  6.16,  5.76,  5.29,  5.  ,  4.42,  4.54,  4.16,  4.53,\n",
       "        4.5 ,  5.85,  5.9 ,  7.31,  9.77,  9.75, 10.7 , 10.73, 10.61,\n",
       "       10.92,  9.99,  8.26,  9.19,  6.26,  5.89,  5.95,  5.22,  5.18,\n",
       "        4.79,  4.6 ,  4.2 ,  4.17,  4.65,  5.94,  8.24,  7.08,  8.51,\n",
       "        7.73,  8.67,  9.6 , 10.03, 10.56,  9.26, 10.6 , 10.88, 10.07,\n",
       "        9.95,  8.08,  7.09,  6.27,  5.56,  5.28,  4.85,  4.67,  4.58,\n",
       "        4.39,  5.91,  5.37,  6.04,  7.03,  7.99,  8.96,  9.8 , 11.05,\n",
       "        9.81,  9.87, 10.08, 11.08, 11.48, 10.8 ,  8.62,  8.42,  7.19,\n",
       "        6.95,  6.48,  6.28,  6.01,  5.73,  5.51,  5.58,  5.77,  6.37,\n",
       "        7.89,  8.69,  8.3 ,  9.27, 11.5 , 12.55, 10.81, 11.35,  9.25,\n",
       "       10.5 ,  8.87,  9.94,  9.74,  7.95,  7.68,  8.  ,  7.22,  4.88,\n",
       "        4.02,  3.73,  3.61,  3.89,  3.77,  4.45,  4.48,  7.78,  7.21,\n",
       "        9.48,  9.52, 10.02,  9.72, 11.53,  9.79, 10.12,  7.05,  7.2 ,\n",
       "        5.98,  5.49,  5.2 ,  5.17,  4.77, 10.26,  9.86, 11.75, 11.92,\n",
       "       12.01,  9.36,  7.36,  6.69,  6.07,  5.6 ,  5.02,  4.96,  4.61,\n",
       "        9.06,  7.39, 11.49,  9.88, 11.47, 11.27,  9.54,  8.95,  9.65,\n",
       "        9.21,  9.68,  8.13,  7.27,  5.67])"
      ]
     },
     "execution_count": 7,
     "metadata": {},
     "output_type": "execute_result"
    }
   ],
   "source": [
    "datasets.WaterLevel.unique()"
   ]
  },
  {
   "cell_type": "code",
   "execution_count": 8,
   "metadata": {},
   "outputs": [],
   "source": [
    "datasets['WaterLevel'] = np.where(datasets['WaterLevel'] < 9, 0, datasets['WaterLevel'])\n",
    "datasets['WaterLevel'] = np.where(datasets['WaterLevel'] >= 9, 1, datasets['WaterLevel'])"
   ]
  },
  {
   "cell_type": "code",
   "execution_count": 9,
   "metadata": {},
   "outputs": [
    {
     "data": {
      "text/plain": [
       "array([0., 1.])"
      ]
     },
     "execution_count": 9,
     "metadata": {},
     "output_type": "execute_result"
    }
   ],
   "source": [
    "datasets['WaterLevel'].unique()"
   ]
  },
  {
   "cell_type": "code",
   "execution_count": 10,
   "metadata": {},
   "outputs": [
    {
     "data": {
      "text/plain": [
       "0.0    185\n",
       "1.0     86\n",
       "Name: WaterLevel, dtype: int64"
      ]
     },
     "execution_count": 10,
     "metadata": {},
     "output_type": "execute_result"
    }
   ],
   "source": [
    "datasets.WaterLevel.value_counts()"
   ]
  },
  {
   "cell_type": "code",
   "execution_count": 11,
   "metadata": {},
   "outputs": [
    {
     "data": {
      "image/png": "[encoded data removed]",
      "text/plain": [
       "<Figure size 432x288 with 1 Axes>"
      ]
     },
     "metadata": {
      "needs_background": "light"
     },
     "output_type": "display_data"
    },
    {
     "data": {
      "text/plain": [
       "<Figure size 432x288 with 0 Axes>"
      ]
     },
     "metadata": {},
     "output_type": "display_data"
    }
   ],
   "source": [
    "sns.countplot(x='WaterLevel', data = datasets, palette='hls')\n",
    "plt.show()\n",
    "plt.tight_layout()\n",
    "plt.show()"
   ]
  },
  {
   "cell_type": "code",
   "execution_count": 12,
   "metadata": {},
   "outputs": [
    {
     "name": "stdout",
     "output_type": "stream",
     "text": [
      "Percentage of Risk Water label :  68.26568265682657\n",
      "Percentage of Safe Water label is :  31.73431734317343\n"
     ]
    }
   ],
   "source": [
    "count_Risk_water_label = len(datasets[datasets['WaterLevel'] == 0])\n",
    "count_Safe_label = len(datasets[datasets['WaterLevel'] == 1])\n",
    "percentage_of_label_of_risk_water = count_Risk_water_label/(count_Risk_water_label + count_Safe_label)\n",
    "print('Percentage of Risk Water label : ',percentage_of_label_of_risk_water *100)\n",
    "percentage_of_Safe_water_label = count_Safe_label/ (count_Risk_water_label + count_Safe_label)\n",
    "print('Percentage of Safe Water label is : ', percentage_of_Safe_water_label*100)"
   ]
  },
  {
   "cell_type": "code",
   "execution_count": 14,
   "metadata": {},
   "outputs": [
    {
     "data": {
      "text/html": [
       "<div>\n",
       "<style scoped>\n",
       "    .dataframe tbody tr th:only-of-type {\n",
       "        vertical-align: middle;\n",
       "    }\n",
       "\n",
       "    .dataframe tbody tr th {\n",
       "        vertical-align: top;\n",
       "    }\n",
       "\n",
       "    .dataframe thead th {\n",
       "        text-align: right;\n",
       "    }\n",
       "</style>\n",
       "<table border=\"1\" class=\"dataframe\">\n",
       "  <thead>\n",
       "    <tr style=\"text-align: right;\">\n",
       "      <th></th>\n",
       "      <th>Discharge</th>\n",
       "      <th>MaxVelocity</th>\n",
       "    </tr>\n",
       "    <tr>\n",
       "      <th>WaterLevel</th>\n",
       "      <th></th>\n",
       "      <th></th>\n",
       "    </tr>\n",
       "  </thead>\n",
       "  <tbody>\n",
       "    <tr>\n",
       "      <th>0.0</th>\n",
       "      <td>234.368054</td>\n",
       "      <td>0.268811</td>\n",
       "    </tr>\n",
       "    <tr>\n",
       "      <th>1.0</th>\n",
       "      <td>696.478256</td>\n",
       "      <td>0.246395</td>\n",
       "    </tr>\n",
       "  </tbody>\n",
       "</table>\n",
       "</div>"
      ],
      "text/plain": [
       "             Discharge  MaxVelocity\n",
       "WaterLevel                         \n",
       "0.0         234.368054     0.268811\n",
       "1.0         696.478256     0.246395"
      ]
     },
     "execution_count": 14,
     "metadata": {},
     "output_type": "execute_result"
    }
   ],
   "source": [
    "datasets.groupby('WaterLevel').mean()"
   ]
  },
  {
   "cell_type": "markdown",
   "metadata": {},
   "source": [
    "###  Data Visualization"
   ]
  },
  {
   "cell_type": "code",
   "execution_count": 21,
   "metadata": {},
   "outputs": [
    {
     "data": {
      "text/plain": [
       "<Figure size 1440x1152 with 0 Axes>"
      ]
     },
     "metadata": {},
     "output_type": "display_data"
    },
    {
     "data": {
      "image/png": "[encoded data removed]",
      "text/plain": [
       "<Figure size 432x288 with 1 Axes>"
      ]
     },
     "metadata": {
      "needs_background": "light"
     },
     "output_type": "display_data"
    }
   ],
   "source": [
    "plt.figure(figsize=(20, 16))\n",
    "pd.crosstab(datasets.Discharge[:40], datasets.WaterLevel).plot(kind = 'bar')\n",
    "plt.title('Discharge effect on WaterLevel')\n",
    "plt.xlabel('Discharge')\n",
    "plt.ylabel('Effect')\n",
    "plt.legend(loc= 'upper left')\n",
    "plt.grid(True)\n",
    "plt.show()"
   ]
  },
  {
   "cell_type": "code",
   "execution_count": 23,
   "metadata": {},
   "outputs": [
    {
     "data": {
      "text/plain": [
       "<Figure size 1440x1152 with 0 Axes>"
      ]
     },
     "metadata": {},
     "output_type": "display_data"
    },
    {
     "data": {
      "image/png": "[encoded data removed]",
      "text/plain": [
       "<Figure size 432x288 with 1 Axes>"
      ]
     },
     "metadata": {
      "needs_background": "light"
     },
     "output_type": "display_data"
    }
   ],
   "source": [
    "plt.figure(figsize=(20, 16))\n",
    "pd.crosstab(datasets.MaxVelocity[:20], datasets.WaterLevel).plot(kind = 'bar')\n",
    "plt.title('Discharge effect on WaterLevel')\n",
    "plt.xlabel('MaxVelocity')\n",
    "plt.ylabel('Effect')\n",
    "plt.legend(loc= 'upper left')\n",
    "plt.grid(True)\n",
    "plt.show()"
   ]
  },
  {
   "cell_type": "code",
   "execution_count": 25,
   "metadata": {},
   "outputs": [],
   "source": [
    "cols = ['Discharge', 'MaxVelocity']\n",
    "X = datasets[cols]\n",
    "y = datasets['WaterLevel']"
   ]
  },
  {
   "cell_type": "code",
   "execution_count": 26,
   "metadata": {},
   "outputs": [
    {
     "name": "stdout",
     "output_type": "stream",
     "text": [
      "Optimization terminated successfully.\n",
      "         Current function value: 0.581474\n",
      "         Iterations 8\n"
     ]
    }
   ],
   "source": [
    "model = sm.Logit(y, X)\n",
    "model_result = model.fit()"
   ]
  },
  {
   "cell_type": "code",
   "execution_count": 30,
   "metadata": {},
   "outputs": [
    {
     "name": "stdout",
     "output_type": "stream",
     "text": [
      "                           Logit Regression Results                           \n",
      "==============================================================================\n",
      "Dep. Variable:             WaterLevel   No. Observations:                  271\n",
      "Model:                          Logit   Df Residuals:                      269\n",
      "Method:                           MLE   Df Model:                            1\n",
      "Date:                Thu, 09 Jul 2020   Pseudo R-squ.:                 0.06942\n",
      "Time:                        23:03:30   Log-Likelihood:                -157.58\n",
      "converged:                       True   LL-Null:                       -169.33\n",
      "Covariance Type:            nonrobust   LLR p-value:                 1.243e-06\n",
      "===============================================================================\n",
      "                  coef    std err          z      P>|z|      [0.025      0.975]\n",
      "-------------------------------------------------------------------------------\n",
      "Discharge       0.0048      0.001      5.566      0.000       0.003       0.007\n",
      "MaxVelocity    -9.1030      1.489     -6.115      0.000     -12.021      -6.185\n",
      "===============================================================================\n",
      "\n",
      "\n",
      "*****************************************************************************\n",
      "\n",
      "\n",
      "                         Results: Logit\n",
      "=================================================================\n",
      "Model:              Logit            Pseudo R-squared: 0.069     \n",
      "Dependent Variable: WaterLevel       AIC:              319.1588  \n",
      "Date:               2020-07-09 23:03 BIC:              326.3630  \n",
      "No. Observations:   271              Log-Likelihood:   -157.58   \n",
      "Df Model:           1                LL-Null:          -169.33   \n",
      "Df Residuals:       269              LLR p-value:      1.2425e-06\n",
      "Converged:          1.0000           Scale:            1.0000    \n",
      "No. Iterations:     8.0000                                       \n",
      "------------------------------------------------------------------\n",
      "              Coef.   Std.Err.     z     P>|z|    [0.025    0.975]\n",
      "------------------------------------------------------------------\n",
      "Discharge     0.0048    0.0009   5.5664  0.0000    0.0031   0.0065\n",
      "MaxVelocity  -9.1030    1.4886  -6.1152  0.0000  -12.0206  -6.1854\n",
      "=================================================================\n",
      "\n"
     ]
    }
   ],
   "source": [
    "print(model_result.summary())\n",
    "print('\\n')\n",
    "print('*****************************************************************************')\n",
    "print('\\n')\n",
    "print(model_result.summary2())"
   ]
  },
  {
   "cell_type": "markdown",
   "metadata": {},
   "source": [
    "### Logistic Regression"
   ]
  },
  {
   "cell_type": "code",
   "execution_count": 31,
   "metadata": {},
   "outputs": [],
   "source": [
    "x_train, x_test, y_train, y_test  = train_test_split(X, y, test_size = 0.2, random_state = 0)"
   ]
  },
  {
   "cell_type": "code",
   "execution_count": 32,
   "metadata": {},
   "outputs": [],
   "source": [
    "logistic_model = LogisticRegression()"
   ]
  },
  {
   "cell_type": "code",
   "execution_count": 33,
   "metadata": {},
   "outputs": [
    {
     "data": {
      "text/plain": [
       "LogisticRegression()"
      ]
     },
     "execution_count": 33,
     "metadata": {},
     "output_type": "execute_result"
    }
   ],
   "source": [
    "logistic_model.fit(x_train, y_train)"
   ]
  },
  {
   "cell_type": "code",
   "execution_count": 44,
   "metadata": {},
   "outputs": [
    {
     "name": "stdout",
     "output_type": "stream",
     "text": [
      "<class 'pandas.core.frame.DataFrame'>\n"
     ]
    }
   ],
   "source": [
    "print(type(x_test))"
   ]
  },
  {
   "cell_type": "code",
   "execution_count": 36,
   "metadata": {},
   "outputs": [
    {
     "name": "stdout",
     "output_type": "stream",
     "text": [
      "Accuracy of Logistic regression on test datasets is : 0.93\n"
     ]
    }
   ],
   "source": [
    "y_predict  = logistic_model.predict(x_test)\n",
    "print('Accuracy of Logistic regression on test datasets is : {:.2f}'.format(logistic_model.score(x_test, y_test)))"
   ]
  },
  {
   "cell_type": "markdown",
   "metadata": {},
   "source": [
    "### Confusion Matrix"
   ]
  },
  {
   "cell_type": "code",
   "execution_count": 38,
   "metadata": {},
   "outputs": [
    {
     "name": "stdout",
     "output_type": "stream",
     "text": [
      "[[33  1]\n",
      " [ 3 18]]\n"
     ]
    }
   ],
   "source": [
    "model_confusion_metrix = confusion_matrix(y_test, y_predict)\n",
    "print(model_confusion_metrix)"
   ]
  },
  {
   "cell_type": "markdown",
   "metadata": {},
   "source": [
    "### This result is telling us thar we have [33+18] = 51 correct predictions and [3+1] = 4 incorrect predictions"
   ]
  },
  {
   "cell_type": "code",
   "execution_count": 40,
   "metadata": {},
   "outputs": [
    {
     "name": "stdout",
     "output_type": "stream",
     "text": [
      "              precision    recall  f1-score   support\n",
      "\n",
      "         0.0       0.92      0.97      0.94        34\n",
      "         1.0       0.95      0.86      0.90        21\n",
      "\n",
      "    accuracy                           0.93        55\n",
      "   macro avg       0.93      0.91      0.92        55\n",
      "weighted avg       0.93      0.93      0.93        55\n",
      "\n"
     ]
    }
   ],
   "source": [
    "print(classification_report(y_test, y_predict))"
   ]
  },
  {
   "cell_type": "code",
   "execution_count": 42,
   "metadata": {},
   "outputs": [
    {
     "data": {
      "image/png": "[encoded data removed]",
      "text/plain": [
       "<Figure size 432x288 with 1 Axes>"
      ]
     },
     "metadata": {
      "needs_background": "light"
     },
     "output_type": "display_data"
    }
   ],
   "source": [
    "logit_roc_auc = roc_auc_score(y_test, logistic_model.predict(x_test))\n",
    "fpr, tpr, thresholds = roc_curve(y_test, logistic_model.predict_proba(x_test)[:,1])\n",
    "plt.figure()\n",
    "plt.plot(fpr, tpr, label='Logistic Regression (area = %0.2f)' % logit_roc_auc)\n",
    "plt.plot([0, 1], [0, 1],'r--')\n",
    "plt.xlim([0.0, 1.0])\n",
    "plt.ylim([0.0, 1.05])\n",
    "plt.xlabel('False Positive Rate')\n",
    "plt.ylabel('True Positive Rate')\n",
    "plt.title('Receiver operating characteristic')\n",
    "plt.legend(loc=\"lower right\")\n",
    "plt.savefig('Log_ROC')\n",
    "plt.show()"
   ]
  },
  {
   "cell_type": "code",
   "execution_count": null,
   "metadata": {},
   "outputs": [],
   "source": []
  }
 ],
 "metadata": {
  "kernelspec": {
   "display_name": "Python 3",
   "language": "python",
   "name": "python3"
  },
  "language_info": {
   "codemirror_mode": {
    "name": "ipython",
    "version": 3
   },
   "file_extension": ".py",
   "mimetype": "text/x-python",
   "name": "python",
   "nbconvert_exporter": "python",
   "pygments_lexer": "ipython3",
   "version": "3.7.7"
  }
 },
 "nbformat": 4,
 "nbformat_minor": 4
}
